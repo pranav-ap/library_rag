{
 "cells": [
  {
   "cell_type": "code",
   "id": "initial_id",
   "metadata": {
    "collapsed": true,
    "ExecuteTime": {
     "end_time": "2024-12-20T00:43:46.600450Z",
     "start_time": "2024-12-20T00:43:46.574065Z"
    }
   },
   "source": [
    "import ollama\n",
    "import chromadb"
   ],
   "outputs": [],
   "execution_count": 21
  },
  {
   "metadata": {
    "ExecuteTime": {
     "end_time": "2024-12-20T00:43:47.432103Z",
     "start_time": "2024-12-20T00:43:46.644617Z"
    }
   },
   "cell_type": "code",
   "source": [
    "vector = ollama.embeddings(\n",
    "    model='nomic-embed-text', \n",
    "    prompt='The sky is blue because of rayleigh scattering'\n",
    ")"
   ],
   "id": "792cde63013b21a9",
   "outputs": [],
   "execution_count": 22
  },
  {
   "metadata": {},
   "cell_type": "markdown",
   "source": "# Ingesting documents",
   "id": "d100b7788c901de9"
  },
  {
   "metadata": {
    "ExecuteTime": {
     "end_time": "2024-12-20T00:43:47.442230Z",
     "start_time": "2024-12-20T00:43:47.435112Z"
    }
   },
   "cell_type": "code",
   "source": [
    "documents = [\n",
    "  \"Llamas are members of the camelid family meaning they're pretty closely related to vicuñas and camels\",\n",
    "  \"Llamas were first domesticated and used as pack animals 4,000 to 5,000 years ago in the Peruvian highlands\",\n",
    "  \"Llamas can grow as much as 6 feet tall though the average llama between 5 feet 6 inches and 5 feet 9 inches tall\",\n",
    "  \"Llamas weigh between 280 and 450 pounds and can carry 25 to 30 percent of their body weight\",\n",
    "  \"Llamas weigh between 280 and 450 pounds and can carry 25 to 30 percent of their body weight\",\n",
    "  \"Llamas are vegetarians and have very efficient digestive systems\",\n",
    "  \"Llamas live to be about 20 years old, though some only live for 15 years and others live to be 30 years old\",\n",
    "]"
   ],
   "id": "bb8c6f804db65c50",
   "outputs": [],
   "execution_count": 23
  },
  {
   "metadata": {
    "ExecuteTime": {
     "end_time": "2024-12-20T00:43:47.991824Z",
     "start_time": "2024-12-20T00:43:47.445248Z"
    }
   },
   "cell_type": "code",
   "source": [
    "client = chromadb.Client()\n",
    "collection = client.create_collection(name=\"docs\")"
   ],
   "id": "a8a009b75740da62",
   "outputs": [
    {
     "ename": "UniqueConstraintError",
     "evalue": "Collection docs already exists",
     "output_type": "error",
     "traceback": [
      "\u001B[1;31m---------------------------------------------------------------------------\u001B[0m",
      "\u001B[1;31mUniqueConstraintError\u001B[0m                     Traceback (most recent call last)",
      "Cell \u001B[1;32mIn[24], line 2\u001B[0m\n\u001B[0;32m      1\u001B[0m client \u001B[38;5;241m=\u001B[39m chromadb\u001B[38;5;241m.\u001B[39mClient()\n\u001B[1;32m----> 2\u001B[0m collection \u001B[38;5;241m=\u001B[39m client\u001B[38;5;241m.\u001B[39mcreate_collection(name\u001B[38;5;241m=\u001B[39m\u001B[38;5;124m\"\u001B[39m\u001B[38;5;124mdocs\u001B[39m\u001B[38;5;124m\"\u001B[39m)\n",
      "File \u001B[1;32m~\\miniconda3\\envs\\common_env\\Lib\\site-packages\\chromadb\\api\\client.py:147\u001B[0m, in \u001B[0;36mClient.create_collection\u001B[1;34m(self, name, configuration, metadata, embedding_function, data_loader, get_or_create)\u001B[0m\n\u001B[0;32m    135\u001B[0m \u001B[38;5;129m@override\u001B[39m\n\u001B[0;32m    136\u001B[0m \u001B[38;5;28;01mdef\u001B[39;00m \u001B[38;5;21mcreate_collection\u001B[39m(\n\u001B[0;32m    137\u001B[0m     \u001B[38;5;28mself\u001B[39m,\n\u001B[1;32m   (...)\u001B[0m\n\u001B[0;32m    145\u001B[0m     get_or_create: \u001B[38;5;28mbool\u001B[39m \u001B[38;5;241m=\u001B[39m \u001B[38;5;28;01mFalse\u001B[39;00m,\n\u001B[0;32m    146\u001B[0m ) \u001B[38;5;241m-\u001B[39m\u001B[38;5;241m>\u001B[39m Collection:\n\u001B[1;32m--> 147\u001B[0m     model \u001B[38;5;241m=\u001B[39m \u001B[38;5;28mself\u001B[39m\u001B[38;5;241m.\u001B[39m_server\u001B[38;5;241m.\u001B[39mcreate_collection(\n\u001B[0;32m    148\u001B[0m         name\u001B[38;5;241m=\u001B[39mname,\n\u001B[0;32m    149\u001B[0m         metadata\u001B[38;5;241m=\u001B[39mmetadata,\n\u001B[0;32m    150\u001B[0m         tenant\u001B[38;5;241m=\u001B[39m\u001B[38;5;28mself\u001B[39m\u001B[38;5;241m.\u001B[39mtenant,\n\u001B[0;32m    151\u001B[0m         database\u001B[38;5;241m=\u001B[39m\u001B[38;5;28mself\u001B[39m\u001B[38;5;241m.\u001B[39mdatabase,\n\u001B[0;32m    152\u001B[0m         get_or_create\u001B[38;5;241m=\u001B[39mget_or_create,\n\u001B[0;32m    153\u001B[0m         configuration\u001B[38;5;241m=\u001B[39mconfiguration,\n\u001B[0;32m    154\u001B[0m     )\n\u001B[0;32m    155\u001B[0m     \u001B[38;5;28;01mreturn\u001B[39;00m Collection(\n\u001B[0;32m    156\u001B[0m         client\u001B[38;5;241m=\u001B[39m\u001B[38;5;28mself\u001B[39m\u001B[38;5;241m.\u001B[39m_server,\n\u001B[0;32m    157\u001B[0m         model\u001B[38;5;241m=\u001B[39mmodel,\n\u001B[0;32m    158\u001B[0m         embedding_function\u001B[38;5;241m=\u001B[39membedding_function,\n\u001B[0;32m    159\u001B[0m         data_loader\u001B[38;5;241m=\u001B[39mdata_loader,\n\u001B[0;32m    160\u001B[0m     )\n",
      "File \u001B[1;32m~\\miniconda3\\envs\\common_env\\Lib\\site-packages\\chromadb\\telemetry\\opentelemetry\\__init__.py:150\u001B[0m, in \u001B[0;36mtrace_method.<locals>.decorator.<locals>.wrapper\u001B[1;34m(*args, **kwargs)\u001B[0m\n\u001B[0;32m    148\u001B[0m \u001B[38;5;28;01mglobal\u001B[39;00m tracer, granularity\n\u001B[0;32m    149\u001B[0m \u001B[38;5;28;01mif\u001B[39;00m trace_granularity \u001B[38;5;241m<\u001B[39m granularity:\n\u001B[1;32m--> 150\u001B[0m     \u001B[38;5;28;01mreturn\u001B[39;00m f(\u001B[38;5;241m*\u001B[39margs, \u001B[38;5;241m*\u001B[39m\u001B[38;5;241m*\u001B[39mkwargs)\n\u001B[0;32m    151\u001B[0m \u001B[38;5;28;01mif\u001B[39;00m \u001B[38;5;129;01mnot\u001B[39;00m tracer:\n\u001B[0;32m    152\u001B[0m     \u001B[38;5;28;01mreturn\u001B[39;00m f(\u001B[38;5;241m*\u001B[39margs, \u001B[38;5;241m*\u001B[39m\u001B[38;5;241m*\u001B[39mkwargs)\n",
      "File \u001B[1;32m~\\miniconda3\\envs\\common_env\\Lib\\site-packages\\chromadb\\api\\segment.py:103\u001B[0m, in \u001B[0;36mrate_limit.<locals>.wrapper\u001B[1;34m(*args, **kwargs)\u001B[0m\n\u001B[0;32m    100\u001B[0m \u001B[38;5;129m@wraps\u001B[39m(func)\n\u001B[0;32m    101\u001B[0m \u001B[38;5;28;01mdef\u001B[39;00m \u001B[38;5;21mwrapper\u001B[39m(\u001B[38;5;241m*\u001B[39margs: Any, \u001B[38;5;241m*\u001B[39m\u001B[38;5;241m*\u001B[39mkwargs: Any) \u001B[38;5;241m-\u001B[39m\u001B[38;5;241m>\u001B[39m Any:\n\u001B[0;32m    102\u001B[0m     \u001B[38;5;28mself\u001B[39m \u001B[38;5;241m=\u001B[39m args[\u001B[38;5;241m0\u001B[39m]\n\u001B[1;32m--> 103\u001B[0m     \u001B[38;5;28;01mreturn\u001B[39;00m \u001B[38;5;28mself\u001B[39m\u001B[38;5;241m.\u001B[39m_rate_limit_enforcer\u001B[38;5;241m.\u001B[39mrate_limit(func)(\u001B[38;5;241m*\u001B[39margs, \u001B[38;5;241m*\u001B[39m\u001B[38;5;241m*\u001B[39mkwargs)\n",
      "File \u001B[1;32m~\\miniconda3\\envs\\common_env\\Lib\\site-packages\\chromadb\\rate_limit\\simple_rate_limit\\__init__.py:23\u001B[0m, in \u001B[0;36mSimpleRateLimitEnforcer.rate_limit.<locals>.wrapper\u001B[1;34m(*args, **kwargs)\u001B[0m\n\u001B[0;32m     21\u001B[0m \u001B[38;5;129m@wraps\u001B[39m(func)\n\u001B[0;32m     22\u001B[0m \u001B[38;5;28;01mdef\u001B[39;00m \u001B[38;5;21mwrapper\u001B[39m(\u001B[38;5;241m*\u001B[39margs: Any, \u001B[38;5;241m*\u001B[39m\u001B[38;5;241m*\u001B[39mkwargs: Any) \u001B[38;5;241m-\u001B[39m\u001B[38;5;241m>\u001B[39m Any:\n\u001B[1;32m---> 23\u001B[0m     \u001B[38;5;28;01mreturn\u001B[39;00m func(\u001B[38;5;241m*\u001B[39margs, \u001B[38;5;241m*\u001B[39m\u001B[38;5;241m*\u001B[39mkwargs)\n",
      "File \u001B[1;32m~\\miniconda3\\envs\\common_env\\Lib\\site-packages\\chromadb\\api\\segment.py:226\u001B[0m, in \u001B[0;36mSegmentAPI.create_collection\u001B[1;34m(self, name, configuration, metadata, get_or_create, tenant, database)\u001B[0m\n\u001B[0;32m    213\u001B[0m model \u001B[38;5;241m=\u001B[39m CollectionModel(\n\u001B[0;32m    214\u001B[0m     \u001B[38;5;28mid\u001B[39m\u001B[38;5;241m=\u001B[39m\u001B[38;5;28mid\u001B[39m,\n\u001B[0;32m    215\u001B[0m     name\u001B[38;5;241m=\u001B[39mname,\n\u001B[1;32m   (...)\u001B[0m\n\u001B[0;32m    222\u001B[0m     dimension\u001B[38;5;241m=\u001B[39m\u001B[38;5;28;01mNone\u001B[39;00m,\n\u001B[0;32m    223\u001B[0m )\n\u001B[0;32m    225\u001B[0m \u001B[38;5;66;03m# TODO: Let sysdb create the collection directly from the model\u001B[39;00m\n\u001B[1;32m--> 226\u001B[0m coll, created \u001B[38;5;241m=\u001B[39m \u001B[38;5;28mself\u001B[39m\u001B[38;5;241m.\u001B[39m_sysdb\u001B[38;5;241m.\u001B[39mcreate_collection(\n\u001B[0;32m    227\u001B[0m     \u001B[38;5;28mid\u001B[39m\u001B[38;5;241m=\u001B[39mmodel\u001B[38;5;241m.\u001B[39mid,\n\u001B[0;32m    228\u001B[0m     name\u001B[38;5;241m=\u001B[39mmodel\u001B[38;5;241m.\u001B[39mname,\n\u001B[0;32m    229\u001B[0m     configuration\u001B[38;5;241m=\u001B[39mmodel\u001B[38;5;241m.\u001B[39mget_configuration(),\n\u001B[0;32m    230\u001B[0m     segments\u001B[38;5;241m=\u001B[39m[], \u001B[38;5;66;03m# Passing empty till backend changes are deployed.\u001B[39;00m\n\u001B[0;32m    231\u001B[0m     metadata\u001B[38;5;241m=\u001B[39mmodel\u001B[38;5;241m.\u001B[39mmetadata,\n\u001B[0;32m    232\u001B[0m     dimension\u001B[38;5;241m=\u001B[39m\u001B[38;5;28;01mNone\u001B[39;00m,  \u001B[38;5;66;03m# This is lazily populated on the first add\u001B[39;00m\n\u001B[0;32m    233\u001B[0m     get_or_create\u001B[38;5;241m=\u001B[39mget_or_create,\n\u001B[0;32m    234\u001B[0m     tenant\u001B[38;5;241m=\u001B[39mtenant,\n\u001B[0;32m    235\u001B[0m     database\u001B[38;5;241m=\u001B[39mdatabase,\n\u001B[0;32m    236\u001B[0m )\n\u001B[0;32m    238\u001B[0m \u001B[38;5;28;01mif\u001B[39;00m created:\n\u001B[0;32m    239\u001B[0m     segments \u001B[38;5;241m=\u001B[39m \u001B[38;5;28mself\u001B[39m\u001B[38;5;241m.\u001B[39m_manager\u001B[38;5;241m.\u001B[39mprepare_segments_for_new_collection(coll)\n",
      "File \u001B[1;32m~\\miniconda3\\envs\\common_env\\Lib\\site-packages\\chromadb\\telemetry\\opentelemetry\\__init__.py:150\u001B[0m, in \u001B[0;36mtrace_method.<locals>.decorator.<locals>.wrapper\u001B[1;34m(*args, **kwargs)\u001B[0m\n\u001B[0;32m    148\u001B[0m \u001B[38;5;28;01mglobal\u001B[39;00m tracer, granularity\n\u001B[0;32m    149\u001B[0m \u001B[38;5;28;01mif\u001B[39;00m trace_granularity \u001B[38;5;241m<\u001B[39m granularity:\n\u001B[1;32m--> 150\u001B[0m     \u001B[38;5;28;01mreturn\u001B[39;00m f(\u001B[38;5;241m*\u001B[39margs, \u001B[38;5;241m*\u001B[39m\u001B[38;5;241m*\u001B[39mkwargs)\n\u001B[0;32m    151\u001B[0m \u001B[38;5;28;01mif\u001B[39;00m \u001B[38;5;129;01mnot\u001B[39;00m tracer:\n\u001B[0;32m    152\u001B[0m     \u001B[38;5;28;01mreturn\u001B[39;00m f(\u001B[38;5;241m*\u001B[39margs, \u001B[38;5;241m*\u001B[39m\u001B[38;5;241m*\u001B[39mkwargs)\n",
      "File \u001B[1;32m~\\miniconda3\\envs\\common_env\\Lib\\site-packages\\chromadb\\db\\mixins\\sysdb.py:241\u001B[0m, in \u001B[0;36mSqlSysDB.create_collection\u001B[1;34m(self, id, name, configuration, segments, metadata, dimension, get_or_create, tenant, database)\u001B[0m\n\u001B[0;32m    234\u001B[0m         \u001B[38;5;28;01mreturn\u001B[39;00m (\n\u001B[0;32m    235\u001B[0m             \u001B[38;5;28mself\u001B[39m\u001B[38;5;241m.\u001B[39mget_collections(\n\u001B[0;32m    236\u001B[0m                 \u001B[38;5;28mid\u001B[39m\u001B[38;5;241m=\u001B[39mcollection\u001B[38;5;241m.\u001B[39mid, tenant\u001B[38;5;241m=\u001B[39mtenant, database\u001B[38;5;241m=\u001B[39mdatabase\n\u001B[0;32m    237\u001B[0m             )[\u001B[38;5;241m0\u001B[39m],\n\u001B[0;32m    238\u001B[0m             \u001B[38;5;28;01mFalse\u001B[39;00m,\n\u001B[0;32m    239\u001B[0m         )\n\u001B[0;32m    240\u001B[0m     \u001B[38;5;28;01melse\u001B[39;00m:\n\u001B[1;32m--> 241\u001B[0m         \u001B[38;5;28;01mraise\u001B[39;00m UniqueConstraintError(\u001B[38;5;124mf\u001B[39m\u001B[38;5;124m\"\u001B[39m\u001B[38;5;124mCollection \u001B[39m\u001B[38;5;132;01m{\u001B[39;00mname\u001B[38;5;132;01m}\u001B[39;00m\u001B[38;5;124m already exists\u001B[39m\u001B[38;5;124m\"\u001B[39m)\n\u001B[0;32m    243\u001B[0m collection \u001B[38;5;241m=\u001B[39m Collection(\n\u001B[0;32m    244\u001B[0m     \u001B[38;5;28mid\u001B[39m\u001B[38;5;241m=\u001B[39m\u001B[38;5;28mid\u001B[39m,\n\u001B[0;32m    245\u001B[0m     name\u001B[38;5;241m=\u001B[39mname,\n\u001B[1;32m   (...)\u001B[0m\n\u001B[0;32m    251\u001B[0m     version\u001B[38;5;241m=\u001B[39m\u001B[38;5;241m0\u001B[39m,\n\u001B[0;32m    252\u001B[0m )\n\u001B[0;32m    254\u001B[0m \u001B[38;5;28;01mwith\u001B[39;00m \u001B[38;5;28mself\u001B[39m\u001B[38;5;241m.\u001B[39mtx() \u001B[38;5;28;01mas\u001B[39;00m cur:\n",
      "\u001B[1;31mUniqueConstraintError\u001B[0m: Collection docs already exists"
     ]
    }
   ],
   "execution_count": 24
  },
  {
   "metadata": {},
   "cell_type": "code",
   "source": [
    "for i, d in enumerate(documents):\n",
    "    response = ollama.embeddings(model='nomic-embed-text', prompt=d)\n",
    "    embedding = response[\"embedding\"]\n",
    "    collection.add(\n",
    "        ids=[str(i)],\n",
    "        embeddings=[embedding],\n",
    "        documents=[d]\n",
    "    )"
   ],
   "id": "c171ab2f1d1d9d77",
   "outputs": [],
   "execution_count": null
  },
  {
   "metadata": {},
   "cell_type": "markdown",
   "source": "# Retrieving documents",
   "id": "a9d79a4122bdaf5"
  },
  {
   "metadata": {
    "ExecuteTime": {
     "end_time": "2024-12-20T00:43:58.583700Z",
     "start_time": "2024-12-20T00:43:58.515399Z"
    }
   },
   "cell_type": "code",
   "source": [
    "prompt = \"What animals are llamas related to?\"\n",
    "\n",
    "# generate an embedding for the prompt and retrieve the most relevant doc\n",
    "response = ollama.embeddings(\n",
    "  prompt=prompt,\n",
    "  model='nomic-embed-text'\n",
    ")\n",
    "\n",
    "results = collection.query(\n",
    "  query_embeddings=[response[\"embedding\"]],\n",
    "  n_results=2\n",
    ")\n",
    "\n",
    "# data = results['documents'][0][0]"
   ],
   "id": "abc49ef12af282ac",
   "outputs": [],
   "execution_count": 25
  },
  {
   "metadata": {
    "ExecuteTime": {
     "end_time": "2024-12-20T00:44:59.682471Z",
     "start_time": "2024-12-20T00:44:59.674402Z"
    }
   },
   "cell_type": "code",
   "source": "results['documents'][0]",
   "id": "f0b808df76415979",
   "outputs": [
    {
     "data": {
      "text/plain": [
       "[\"Llamas are members of the camelid family meaning they're pretty closely related to vicuñas and camels\",\n",
       " 'Llamas weigh between 280 and 450 pounds and can carry 25 to 30 percent of their body weight']"
      ]
     },
     "execution_count": 30,
     "metadata": {},
     "output_type": "execute_result"
    }
   ],
   "execution_count": 30
  },
  {
   "metadata": {},
   "cell_type": "markdown",
   "source": "# Generate Answer",
   "id": "30b2561ed554341c"
  },
  {
   "metadata": {},
   "cell_type": "code",
   "source": [
    "output = ollama.generate(\n",
    "  model=\"phi3\",\n",
    "  prompt=f\"\"\"\n",
    "  Using this data: {data}. \n",
    "  Respond to this prompt: {prompt}.\n",
    "  Keep it within 100 words.\n",
    "  \"\"\"\n",
    ")\n",
    "\n",
    "print(output['response'])"
   ],
   "id": "1459c03707b1e1ab",
   "outputs": [],
   "execution_count": null
  },
  {
   "metadata": {},
   "cell_type": "code",
   "source": "",
   "id": "133dfe2970c119ef",
   "outputs": [],
   "execution_count": null
  }
 ],
 "metadata": {
  "kernelspec": {
   "display_name": "Python 3",
   "language": "python",
   "name": "python3"
  },
  "language_info": {
   "codemirror_mode": {
    "name": "ipython",
    "version": 2
   },
   "file_extension": ".py",
   "mimetype": "text/x-python",
   "name": "python",
   "nbconvert_exporter": "python",
   "pygments_lexer": "ipython2",
   "version": "2.7.6"
  }
 },
 "nbformat": 4,
 "nbformat_minor": 5
}
