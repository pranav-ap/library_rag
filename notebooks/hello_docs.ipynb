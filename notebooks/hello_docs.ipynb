{
 "cells": [
  {
   "cell_type": "code",
   "id": "initial_id",
   "metadata": {
    "collapsed": true,
    "ExecuteTime": {
     "end_time": "2025-02-17T09:44:26.630135Z",
     "start_time": "2025-02-17T09:44:18.734993Z"
    }
   },
   "source": [
    "from llama_index.core import SimpleDirectoryReader\n",
    "documents = SimpleDirectoryReader(\n",
    "    input_dir=r'D:\\code\\library_rag\\data',\n",
    ").load_data()"
   ],
   "outputs": [],
   "execution_count": 1
  },
  {
   "metadata": {
    "ExecuteTime": {
     "end_time": "2025-02-17T09:44:41.566855Z",
     "start_time": "2025-02-17T09:44:41.554960Z"
    }
   },
   "cell_type": "code",
   "source": "len(documents[0].text)",
   "id": "8129c5637222abcb",
   "outputs": [
    {
     "data": {
      "text/plain": [
       "593724"
      ]
     },
     "execution_count": 2,
     "metadata": {},
     "output_type": "execute_result"
    }
   ],
   "execution_count": 2
  },
  {
   "metadata": {
    "ExecuteTime": {
     "end_time": "2025-02-17T09:47:41.686570Z",
     "start_time": "2025-02-17T09:47:41.677972Z"
    }
   },
   "cell_type": "code",
   "source": [
    "import pprint\n",
    "pprint.pprint(documents[3])"
   ],
   "id": "182dfa6cfaa47863",
   "outputs": [
    {
     "name": "stdout",
     "output_type": "stream",
     "text": [
      "Document(id_='6dd5ad84-aeed-4a13-8916-26ebd64b7a78', embedding=None, metadata={'page_label': '3', 'file_name': 'The King.pdf', 'file_path': 'D:\\\\code\\\\library_rag\\\\data\\\\The King.pdf', 'file_type': 'application/pdf', 'file_size': 756491, 'creation_date': '2025-02-17', 'last_modified_date': '2024-07-26'}, excluded_embed_metadata_keys=['file_name', 'file_type', 'file_size', 'creation_date', 'last_modified_date', 'last_accessed_date'], excluded_llm_metadata_keys=['file_name', 'file_type', 'file_size', 'creation_date', 'last_modified_date', 'last_accessed_date'], relationships={}, metadata_template='{key}: {value}', metadata_separator='\\n', text_resource=MediaResource(embeddings=None, data=None, text='The limping man, uncertain, turns and follows the wind.\\nHotspur turns and walks away. Stab.\\nINT. ANTECHAMBER / ROYAL COURT - DAY\\nRoyal Court, London. Hotspur, cleaned from the battlefield, \\nwalks the hall with his father, the EARL OF NORTHUMBERLAND (50), \\nbeside him. Northumberland appears wary. Hotspur strides.\\nThey are met by sentries and the Chief Justice SIR WILLIAM \\nGASCOIGNE.\\nWILLIAM\\nMy Lords Percy.\\nHOTSPUR\\nWe have come to see the King.\\nWILLIAM\\nI’m afraid His Majesty is engaged \\nwith other concerns. Is he \\nexpecting your visit?\\nHOTSPUR\\nI should hope he is. We are but the \\nmen who have spilled blood in his \\nname. I should hope that he expects \\nour visit with enthusiasm.\\nWilliam notes Hotspur’s hostility and disappears through the \\nantechamber to a room beyond.\\nHotspur’s agitation is a source of unease for Northumberland - \\nan unease which cannot be addressed openly before the silent, \\nhelmeted sentries standing watch.\\nNORTHUMBERLAND\\nMy son. Be calm.\\nHotspur stares, boiling, in the direction of the door beyond \\nwhich the King is engaged with his other matters. \\nINT. PARLOUR / ROYAL COURT - DAY\\nHotspur and Northumberland sit at one end of a long dining \\ntable. They are quiet. Hotspur’s agitation boils.\\nA door opens. KING HENRY IV hobbles in. Royal courtiers follow: \\nWilliam, the EARL OF WESTMORLAND, LORD SCROPE OF MASHAM, the \\nEARL OF CAMBRIDGE, SIR THOMAS GREY, the EARL OF DORSET among \\nthem.\\n2.\\n8FLiX.com SCREENPLAY DATABASE \\nFOR EDUCATIONAL USE ONLY', mimetype=None, path=None, url=None), image_resource=None, audio_resource=None, video_resource=None, text_template='{metadata_str}\\n\\n{content}')\n"
     ]
    }
   ],
   "execution_count": 6
  },
  {
   "metadata": {
    "ExecuteTime": {
     "end_time": "2025-02-17T09:49:08.503368Z",
     "start_time": "2025-02-17T09:49:03.373781Z"
    }
   },
   "cell_type": "code",
   "source": [
    "from llama_index.core.ingestion import IngestionPipeline\n",
    "from llama_index.core.node_parser import TokenTextSplitter\n",
    "\n",
    "pipeline = IngestionPipeline(transformations=[\n",
    "        TokenTextSplitter(\n",
    "            chunk_size=126,\n",
    "            chunk_overlap=20,\n",
    "        )\n",
    "    ])\n",
    "\n",
    "nodes = pipeline.run(documents=documents)"
   ],
   "id": "a3cbf901a8e13f6a",
   "outputs": [],
   "execution_count": 7
  },
  {
   "metadata": {
    "ExecuteTime": {
     "end_time": "2025-02-17T09:49:08.512524Z",
     "start_time": "2025-02-17T09:49:08.505142Z"
    }
   },
   "cell_type": "code",
   "source": "len(nodes[0].text)",
   "id": "c8e0e33a63dc8094",
   "outputs": [
    {
     "data": {
      "text/plain": [
       "502"
      ]
     },
     "execution_count": 8,
     "metadata": {},
     "output_type": "execute_result"
    }
   ],
   "execution_count": 8
  },
  {
   "metadata": {
    "ExecuteTime": {
     "end_time": "2025-02-17T09:49:08.522600Z",
     "start_time": "2025-02-17T09:49:08.514061Z"
    }
   },
   "cell_type": "code",
   "source": "nodes[0].text",
   "id": "9100bdc993e736d4",
   "outputs": [
    {
     "data": {
      "text/plain": [
       "'The Project Gutenberg eBook of The Adventures of Sherlock Holmes,\\r\\nby Arthur Conan Doyle\\r\\n\\r\\nThis eBook is for the use of anyone anywhere in the United States and\\r\\nmost other parts of the world at no cost and with almost no restrictions\\r\\nwhatsoever. You may copy it, give it away or re-use it under the terms\\r\\nof the Project Gutenberg License included with this eBook or online at\\r\\nwww.gutenberg.org. If you are not located in the United States, you\\r\\nwill have to check the laws of the country where you'"
      ]
     },
     "execution_count": 9,
     "metadata": {},
     "output_type": "execute_result"
    }
   ],
   "execution_count": 9
  },
  {
   "metadata": {
    "ExecuteTime": {
     "end_time": "2025-02-17T09:50:40.428661Z",
     "start_time": "2025-02-17T09:50:34.053923Z"
    }
   },
   "cell_type": "code",
   "source": [
    "from utils import list_files_in_folder\n",
    "\n",
    "list_files_in_folder(r'D:\\code\\library_rag\\data')"
   ],
   "id": "c1cdb51168f8309a",
   "outputs": [
    {
     "data": {
      "text/plain": [
       "['D:\\\\code\\\\library_rag\\\\data\\\\The Adventures of Sherlock Holmes.txt',\n",
       " 'D:\\\\code\\\\library_rag\\\\data\\\\The King.pdf']"
      ]
     },
     "execution_count": 10,
     "metadata": {},
     "output_type": "execute_result"
    }
   ],
   "execution_count": 10
  },
  {
   "metadata": {},
   "cell_type": "code",
   "outputs": [],
   "execution_count": null,
   "source": [
    "# Read the contents of a text file\n",
    "with open(r\"D:\\code\\library_rag\\data\\The Adventures of Sherlock Holmes.txt\", \"r\", encoding=\"utf-8\") as file:\n",
    "    content = file.read()\n",
    "\n",
    "print(content[:9000])\n"
   ],
   "id": "db36ab1ccbdc5a51"
  }
 ],
 "metadata": {
  "kernelspec": {
   "display_name": "Python 3",
   "language": "python",
   "name": "python3"
  },
  "language_info": {
   "codemirror_mode": {
    "name": "ipython",
    "version": 2
   },
   "file_extension": ".py",
   "mimetype": "text/x-python",
   "name": "python",
   "nbconvert_exporter": "python",
   "pygments_lexer": "ipython2",
   "version": "2.7.6"
  }
 },
 "nbformat": 4,
 "nbformat_minor": 5
}
