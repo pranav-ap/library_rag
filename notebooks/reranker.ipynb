{
 "cells": [
  {
   "cell_type": "code",
   "id": "initial_id",
   "metadata": {
    "collapsed": true,
    "ExecuteTime": {
     "end_time": "2024-12-21T09:45:00.072083Z",
     "start_time": "2024-12-21T09:44:46.940259Z"
    }
   },
   "source": "from sentence_transformers import CrossEncoder",
   "outputs": [],
   "execution_count": 1
  },
  {
   "metadata": {
    "ExecuteTime": {
     "end_time": "2024-12-21T09:45:18.632909Z",
     "start_time": "2024-12-21T09:45:00.073597Z"
    }
   },
   "cell_type": "code",
   "source": "model = CrossEncoder(\"cross-encoder/ms-marco-MiniLM-L-6-v2\")",
   "id": "cfcb524ff0d2679",
   "outputs": [
    {
     "data": {
      "text/plain": [
       "config.json:   0%|          | 0.00/794 [00:00<?, ?B/s]"
      ],
      "application/vnd.jupyter.widget-view+json": {
       "version_major": 2,
       "version_minor": 0,
       "model_id": "e6b26244229443a188832390fd05c647"
      }
     },
     "metadata": {},
     "output_type": "display_data"
    },
    {
     "name": "stderr",
     "output_type": "stream",
     "text": [
      "C:\\Users\\prana\\miniconda3\\envs\\common_env\\Lib\\site-packages\\huggingface_hub\\file_download.py:159: UserWarning: `huggingface_hub` cache-system uses symlinks by default to efficiently store duplicated files but your machine does not support them in C:\\Users\\prana\\.cache\\huggingface\\hub\\models--cross-encoder--ms-marco-MiniLM-L-6-v2. Caching files will still work but in a degraded version that might require more space on your disk. This warning can be disabled by setting the `HF_HUB_DISABLE_SYMLINKS_WARNING` environment variable. For more details, see https://huggingface.co/docs/huggingface_hub/how-to-cache#limitations.\n",
      "To support symlinks on Windows, you either need to activate Developer Mode or to run Python as an administrator. In order to see activate developer mode, see this article: https://docs.microsoft.com/en-us/windows/apps/get-started/enable-your-device-for-development\n",
      "  warnings.warn(message)\n"
     ]
    },
    {
     "data": {
      "text/plain": [
       "model.safetensors:   0%|          | 0.00/90.9M [00:00<?, ?B/s]"
      ],
      "application/vnd.jupyter.widget-view+json": {
       "version_major": 2,
       "version_minor": 0,
       "model_id": "7cb8054c00634849bacc7ceb6db7b1af"
      }
     },
     "metadata": {},
     "output_type": "display_data"
    },
    {
     "data": {
      "text/plain": [
       "tokenizer_config.json:   0%|          | 0.00/316 [00:00<?, ?B/s]"
      ],
      "application/vnd.jupyter.widget-view+json": {
       "version_major": 2,
       "version_minor": 0,
       "model_id": "b2b73e3be3304689a058ad2d72d8cb03"
      }
     },
     "metadata": {},
     "output_type": "display_data"
    },
    {
     "data": {
      "text/plain": [
       "vocab.txt:   0%|          | 0.00/232k [00:00<?, ?B/s]"
      ],
      "application/vnd.jupyter.widget-view+json": {
       "version_major": 2,
       "version_minor": 0,
       "model_id": "19b7f303dc34460599bc5dddc2627f86"
      }
     },
     "metadata": {},
     "output_type": "display_data"
    },
    {
     "data": {
      "text/plain": [
       "special_tokens_map.json:   0%|          | 0.00/112 [00:00<?, ?B/s]"
      ],
      "application/vnd.jupyter.widget-view+json": {
       "version_major": 2,
       "version_minor": 0,
       "model_id": "e1cc3ee049d4440db524b04c346353a0"
      }
     },
     "metadata": {},
     "output_type": "display_data"
    }
   ],
   "execution_count": 2
  },
  {
   "metadata": {
    "ExecuteTime": {
     "end_time": "2024-12-21T09:46:07.714059Z",
     "start_time": "2024-12-21T09:46:07.685995Z"
    }
   },
   "cell_type": "code",
   "source": [
    "user_prompt = \"How many people live in Berlin?\"\n",
    "\n",
    "scores = model.predict([\n",
    "    (user_prompt, \"Berlin had a population of 3,520,031 registered inhabitants in an area of 891.82 square kilometers.\"),\n",
    "    (user_prompt, \"Berlin is well known for its museums.\"),\n",
    "])\n",
    "\n",
    "scores"
   ],
   "id": "b44e98a381bb83ef",
   "outputs": [],
   "execution_count": 5
  },
  {
   "metadata": {
    "ExecuteTime": {
     "end_time": "2024-12-21T09:50:26.252589Z",
     "start_time": "2024-12-21T09:50:26.203099Z"
    }
   },
   "cell_type": "code",
   "source": [
    "query = \"How many people live in Berlin?\"\n",
    "\n",
    "passages = [\n",
    "    \"Berlin had a population of 3,520,031 registered inhabitants in an area of 891.82 square kilometers.\",\n",
    "    \"Berlin is well known for its museums.\",\n",
    "    \"In 2014, the city state Berlin had 37,368 live births (+6.6%), a record number since 1991.\",\n",
    "    \"The urban area of Berlin comprised about 4.1 million people in 2014, making it the seventh most populous urban area in the European Union.\",\n",
    "    \"The city of Paris had a population of 2,165,423 people within its administrative city limits as of January 1, 2019\",\n",
    "    \"An estimated 300,000-420,000 Muslims reside in Berlin, making up about 8-11 percent of the population.\",\n",
    "    \"Berlin is subdivided into 12 boroughs or districts (Bezirke).\",\n",
    "    \"In 2015, the total labour force in Berlin was 1.85 million.\",\n",
    "    \"In 2013 around 600,000 Berliners were registered in one of the more than 2,300 sport and fitness clubs.\",\n",
    "    \"Berlin has a yearly total of about 135 million day visitors, which puts it in third place among the most-visited city destinations in the European Union.\",\n",
    "]\n",
    "\n",
    "ranks = model.rank(query, passages, return_documents=True)"
   ],
   "id": "e424a2b88a8d173",
   "outputs": [],
   "execution_count": 9
  },
  {
   "metadata": {
    "ExecuteTime": {
     "end_time": "2024-12-21T09:50:26.567372Z",
     "start_time": "2024-12-21T09:50:26.558963Z"
    }
   },
   "cell_type": "code",
   "source": "ranks",
   "id": "d435ce3f7ded6f5d",
   "outputs": [
    {
     "data": {
      "text/plain": [
       "[{'corpus_id': 3,\n",
       "  'score': 8.915804,\n",
       "  'text': 'The urban area of Berlin comprised about 4.1 million people in 2014, making it the seventh most populous urban area in the European Union.'},\n",
       " {'corpus_id': 0,\n",
       "  'score': 8.607138,\n",
       "  'text': 'Berlin had a population of 3,520,031 registered inhabitants in an area of 891.82 square kilometers.'},\n",
       " {'corpus_id': 5,\n",
       "  'score': 8.2359,\n",
       "  'text': 'An estimated 300,000-420,000 Muslims reside in Berlin, making up about 8-11 percent of the population.'},\n",
       " {'corpus_id': 2,\n",
       "  'score': 7.5978127,\n",
       "  'text': 'In 2014, the city state Berlin had 37,368 live births (+6.6%), a record number since 1991.'},\n",
       " {'corpus_id': 8,\n",
       "  'score': 6.352979,\n",
       "  'text': 'In 2013 around 600,000 Berliners were registered in one of the more than 2,300 sport and fitness clubs.'},\n",
       " {'corpus_id': 9,\n",
       "  'score': 5.416662,\n",
       "  'text': 'Berlin has a yearly total of about 135 million day visitors, which puts it in third place among the most-visited city destinations in the European Union.'},\n",
       " {'corpus_id': 7,\n",
       "  'score': 3.451043,\n",
       "  'text': 'In 2015, the total labour force in Berlin was 1.85 million.'},\n",
       " {'corpus_id': 6,\n",
       "  'score': 0.33119595,\n",
       "  'text': 'Berlin is subdivided into 12 boroughs or districts (Bezirke).'},\n",
       " {'corpus_id': 4,\n",
       "  'score': -4.237981,\n",
       "  'text': 'The city of Paris had a population of 2,165,423 people within its administrative city limits as of January 1, 2019'},\n",
       " {'corpus_id': 1,\n",
       "  'score': -4.320077,\n",
       "  'text': 'Berlin is well known for its museums.'}]"
      ]
     },
     "execution_count": 10,
     "metadata": {},
     "output_type": "execute_result"
    }
   ],
   "execution_count": 10
  },
  {
   "metadata": {},
   "cell_type": "code",
   "outputs": [],
   "execution_count": null,
   "source": "",
   "id": "9dd7a61c8c6909de"
  }
 ],
 "metadata": {
  "kernelspec": {
   "display_name": "Python 3",
   "language": "python",
   "name": "python3"
  },
  "language_info": {
   "codemirror_mode": {
    "name": "ipython",
    "version": 2
   },
   "file_extension": ".py",
   "mimetype": "text/x-python",
   "name": "python",
   "nbconvert_exporter": "python",
   "pygments_lexer": "ipython2",
   "version": "2.7.6"
  }
 },
 "nbformat": 4,
 "nbformat_minor": 5
}
