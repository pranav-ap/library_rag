{
 "cells": [
  {
   "metadata": {
    "ExecuteTime": {
     "end_time": "2025-03-24T14:40:53.135342Z",
     "start_time": "2025-03-24T14:40:52.576179Z"
    }
   },
   "cell_type": "code",
   "source": [
    "%load_ext autoreload\n",
    "%autoreload 2"
   ],
   "id": "2a737b2f3914c8f8",
   "outputs": [],
   "execution_count": 25
  },
  {
   "metadata": {
    "ExecuteTime": {
     "end_time": "2025-03-24T15:19:31.677589Z",
     "start_time": "2025-03-24T15:19:31.101215Z"
    }
   },
   "cell_type": "code",
   "source": [
    "from src import setup_env_variables\n",
    "setup_env_variables()"
   ],
   "id": "273c9230293800ca",
   "outputs": [],
   "execution_count": 35
  },
  {
   "metadata": {
    "ExecuteTime": {
     "end_time": "2025-03-24T20:50:33.297281Z",
     "start_time": "2025-03-24T20:50:32.258054Z"
    }
   },
   "cell_type": "code",
   "source": [
    "from src import setup_workflow\n",
    "workflow = setup_workflow()\n",
    "graph = workflow.compile()"
   ],
   "id": "259d8a3dca9d4990",
   "outputs": [
    {
     "name": "stderr",
     "output_type": "stream",
     "text": [
      "D:\\code\\library_rag\\src\\setup_rag.py:66: LangChainDeprecationWarning: The class `Chroma` was deprecated in LangChain 0.2.9 and will be removed in 1.0. An updated version of the class exists in the :class:`~langchain-chroma package and should be used instead. To use it run `pip install -U :class:`~langchain-chroma` and import as `from :class:`~langchain_chroma import Chroma``.\n",
      "  documents=doc_splits,\n"
     ]
    }
   ],
   "execution_count": 108
  },
  {
   "metadata": {
    "ExecuteTime": {
     "end_time": "2025-03-24T20:51:40.300804Z",
     "start_time": "2025-03-24T20:50:33.484327Z"
    }
   },
   "cell_type": "code",
   "source": [
    "inputs = {\n",
    "    \"question\": \"When did Napoleon born?\",\n",
    "    \"max_retries\": 3,\n",
    "    \"MAX_ANSWER_LENGTH\": 150,\n",
    "}\n",
    "\n",
    "results = []\n",
    "for event in graph.stream(inputs, stream_mode=\"values\"):\n",
    "    results.append(event)"
   ],
   "id": "b85ad94c6f041927",
   "outputs": [
    {
     "name": "stdout",
     "output_type": "stream",
     "text": [
      "Reformulated question: When was Napoleon Bonaparte born?\n"
     ]
    }
   ],
   "execution_count": 110
  },
  {
   "metadata": {
    "ExecuteTime": {
     "end_time": "2025-03-24T20:51:40.560596Z",
     "start_time": "2025-03-24T20:51:40.379362Z"
    }
   },
   "cell_type": "code",
   "source": [
    "from IPython.display import display, Markdown\n",
    "display(Markdown(results[-1]['answer']))"
   ],
   "id": "9d8dbdf193e159ad",
   "outputs": [
    {
     "data": {
      "text/plain": [
       "<IPython.core.display.Markdown object>"
      ],
      "text/markdown": "Napoleon Bonaparte was born on August 15, 1769, in Ajaccio, Corsica. This information is directly stated in the provided context. The birthdate is also mentioned as one of the key facts about Napoleon's life, along with his parents' names and their place of residence."
     },
     "metadata": {},
     "output_type": "display_data"
    }
   ],
   "execution_count": 111
  },
  {
   "metadata": {
    "ExecuteTime": {
     "end_time": "2025-03-24T20:51:40.584669Z",
     "start_time": "2025-03-24T20:51:40.575668Z"
    }
   },
   "cell_type": "code",
   "source": [
    "# from IPython.display import Image, display\n",
    "# display(Image(graph.get_graph().draw_mermaid_png()))"
   ],
   "id": "72267545c845096c",
   "outputs": [],
   "execution_count": null
  }
 ],
 "metadata": {
  "kernelspec": {
   "display_name": "Python 3",
   "language": "python",
   "name": "python3"
  },
  "language_info": {
   "codemirror_mode": {
    "name": "ipython",
    "version": 2
   },
   "file_extension": ".py",
   "mimetype": "text/x-python",
   "name": "python",
   "nbconvert_exporter": "python",
   "pygments_lexer": "ipython2",
   "version": "2.7.6"
  }
 },
 "nbformat": 4,
 "nbformat_minor": 5
}
