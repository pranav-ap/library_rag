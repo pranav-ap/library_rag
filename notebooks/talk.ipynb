{
 "cells": [
  {
   "metadata": {
    "ExecuteTime": {
     "end_time": "2025-03-24T22:39:58.006178Z",
     "start_time": "2025-03-24T22:39:57.965323Z"
    }
   },
   "cell_type": "code",
   "source": [
    "%load_ext autoreload\n",
    "%autoreload 2"
   ],
   "id": "2a737b2f3914c8f8",
   "outputs": [],
   "execution_count": 1
  },
  {
   "metadata": {
    "ExecuteTime": {
     "end_time": "2025-03-24T22:45:02.863392Z",
     "start_time": "2025-03-24T22:45:02.226595Z"
    }
   },
   "cell_type": "code",
   "source": [
    "from langfuse.callback import CallbackHandler\n",
    "langfuse_handler = CallbackHandler()"
   ],
   "id": "4d2e9b242695178e",
   "outputs": [],
   "execution_count": 8
  },
  {
   "metadata": {
    "ExecuteTime": {
     "end_time": "2025-03-24T22:40:07.171471Z",
     "start_time": "2025-03-24T22:39:58.672289Z"
    }
   },
   "cell_type": "code",
   "source": [
    "from src import setup_env_variables\n",
    "setup_env_variables()"
   ],
   "id": "273c9230293800ca",
   "outputs": [],
   "execution_count": 3
  },
  {
   "metadata": {
    "ExecuteTime": {
     "end_time": "2025-03-24T23:15:28.527586Z",
     "start_time": "2025-03-24T23:12:24.243788Z"
    }
   },
   "cell_type": "code",
   "source": [
    "from src import setup_workflow\n",
    "workflow = setup_workflow()\n",
    "graph = workflow.compile()\n",
    "\n",
    "inputs = {\n",
    "    \"question\": \"What is prompt?\",\n",
    "    \"max_retries\": 3,\n",
    "    \"MAX_ANSWER_LENGTH\": 150,\n",
    "}\n",
    "\n",
    "results = []\n",
    "for event in graph.stream(inputs, config={\"callbacks\": [langfuse_handler]}):\n",
    "    results.append(event)"
   ],
   "id": "259d8a3dca9d4990",
   "outputs": [
    {
     "name": "stdout",
     "output_type": "stream",
     "text": [
      "Reformulated question : What is the purpose or function of a prompt?\n",
      "Retrieved 3 documents.\n"
     ]
    }
   ],
   "execution_count": 35
  },
  {
   "metadata": {
    "ExecuteTime": {
     "end_time": "2025-03-24T23:12:09.991773Z",
     "start_time": "2025-03-24T23:12:09.908644Z"
    }
   },
   "cell_type": "code",
   "source": [
    "from IPython.display import display, Markdown\n",
    "display(Markdown(results[-1]['generate_answer']['answer']))"
   ],
   "id": "9d8dbdf193e159ad",
   "outputs": [
    {
     "data": {
      "text/plain": [
       "<IPython.core.display.Markdown object>"
      ],
      "text/markdown": "Prompt engineering refers to methods for communicating with autoregressive language models (LLMs) to steer their behavior towards desired outcomes without updating model weights. The goal is alignment and model steerability. It involves selecting and ordering examples, as well as using specific prompt formats, to maximize performance. Zero-shot and few-shot learning are basic approaches, where zero-shot involves feeding task text to the model for results, and few-shot presents high-quality demonstrations of input and desired output. The choice of prompt format, training examples, and example order can significantly impact performance, with biases such as majority label bias, recency bias, and common token bias affecting LLMs. To overcome these biases, calibration methods have been proposed to ensure uniform label probabilities when the input string is N/A."
     },
     "metadata": {},
     "output_type": "display_data"
    }
   ],
   "execution_count": 34
  },
  {
   "metadata": {
    "ExecuteTime": {
     "end_time": "2025-03-24T22:42:42.554876Z",
     "start_time": "2025-03-24T22:42:42.448692Z"
    }
   },
   "cell_type": "code",
   "source": [
    "# from IPython.display import Image, display\n",
    "# display(Image(graph.get_graph().draw_mermaid_png()))"
   ],
   "id": "72267545c845096c",
   "outputs": [],
   "execution_count": 7
  }
 ],
 "metadata": {
  "kernelspec": {
   "display_name": "Python 3",
   "language": "python",
   "name": "python3"
  },
  "language_info": {
   "codemirror_mode": {
    "name": "ipython",
    "version": 2
   },
   "file_extension": ".py",
   "mimetype": "text/x-python",
   "name": "python",
   "nbconvert_exporter": "python",
   "pygments_lexer": "ipython2",
   "version": "2.7.6"
  }
 },
 "nbformat": 4,
 "nbformat_minor": 5
}
