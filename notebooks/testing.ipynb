{
 "cells": [
  {
   "metadata": {
    "ExecuteTime": {
     "end_time": "2024-12-20T14:45:05.502090Z",
     "start_time": "2024-12-20T14:45:04.666328Z"
    }
   },
   "cell_type": "code",
   "source": [
    "%load_ext autoreload\n",
    "%autoreload 2"
   ],
   "id": "b4070623045367a2",
   "outputs": [
    {
     "name": "stdout",
     "output_type": "stream",
     "text": [
      "The autoreload extension is already loaded. To reload it, use:\n",
      "  %reload_ext autoreload\n"
     ]
    }
   ],
   "execution_count": 59
  },
  {
   "cell_type": "code",
   "id": "initial_id",
   "metadata": {
    "collapsed": true,
    "ExecuteTime": {
     "end_time": "2024-12-20T14:45:05.683773Z",
     "start_time": "2024-12-20T14:45:05.505100Z"
    }
   },
   "source": "from main import RAGSystem",
   "outputs": [],
   "execution_count": 60
  },
  {
   "metadata": {
    "ExecuteTime": {
     "end_time": "2024-12-20T14:45:17.384473Z",
     "start_time": "2024-12-20T14:45:05.685788Z"
    }
   },
   "cell_type": "code",
   "source": "rag_system = RAGSystem()",
   "id": "1c8ef9289d25c34f",
   "outputs": [],
   "execution_count": 61
  },
  {
   "metadata": {
    "ExecuteTime": {
     "end_time": "2024-12-20T14:45:17.566122Z",
     "start_time": "2024-12-20T14:45:17.385483Z"
    }
   },
   "cell_type": "code",
   "source": [
    "prompt = 'In which country does Sherlock live in?'\n",
    "context_results = rag_system.collection.query(query_texts=[prompt], n_results=4)"
   ],
   "id": "18552c49889adc8e",
   "outputs": [],
   "execution_count": 62
  },
  {
   "metadata": {
    "ExecuteTime": {
     "end_time": "2024-12-20T14:45:17.729976Z",
     "start_time": "2024-12-20T14:45:17.568129Z"
    }
   },
   "cell_type": "code",
   "source": [
    "texts = context_results[\"documents\"][0]\n",
    "len(texts)"
   ],
   "id": "b82fe4eecb0f7196",
   "outputs": [
    {
     "data": {
      "text/plain": [
       "4"
      ]
     },
     "execution_count": 63,
     "metadata": {},
     "output_type": "execute_result"
    }
   ],
   "execution_count": 63
  },
  {
   "metadata": {
    "ExecuteTime": {
     "end_time": "2024-12-20T14:45:17.897684Z",
     "start_time": "2024-12-20T14:45:17.730988Z"
    }
   },
   "cell_type": "code",
   "source": "texts[0]",
   "id": "e9a5cf8dedcc59",
   "outputs": [
    {
     "data": {
      "text/plain": [
       "'“and I’d have done so\\r\\nbefore now if I could ha’ got out from the cellar. If there’s\\r\\npolice-court business over this, you’ll remember that I was the one\\r\\nthat stood your friend, and that I was Miss Alice’s friend too.\\r\\n\\r\\n“She was never happy at home, Miss Alice wasn’t, from the time that her\\r\\nfather married again. She was slighted like and had no say in anything,\\r\\nbut it never really became bad for her until after she met Mr. Fowler\\r\\nat a friend’s house. As well as I could learn, Miss Alice had rights of\\r\\nher own by will, but she was so quiet and patient, she was, that she\\r\\nnever said a word about them but just left everything in Mr. Rucastle’s\\r\\nhands. He knew he was safe with her; but when there was a chance of a\\r\\nhusband coming forward, who would ask for all that the law would give\\r\\nhim, then her father thought it time to put a stop on it. He wanted her\\r\\nto sign a paper, so that whether she married or not, he could use her\\r\\nmoney. When she wouldn’t do it, he kept on worrying her until she got\\r\\nbrain-fever, and for six weeks was at death’s door. Then she got better\\r\\nat last, all worn to a shadow, and with her beautiful hair cut off; but\\r\\nthat didn’t make no change in her young man, and he stuck to her as\\r\\ntrue as man could be.”\\r\\n\\r\\n“Ah,” said Holmes, “I think that what you have been good enough to tell\\r\\nus makes the matter fairly clear, and that I can deduce all that\\r\\nremains. Mr. Rucastle then, I presume, took to this system of\\r\\nimprisonment?”\\r\\n\\r\\n“Yes, sir.”\\r\\n\\r\\n“And brought Miss Hunter down from London in order to get rid of the\\r\\ndisagreeable persistence of Mr. Fowler.”\\r\\n\\r\\n“That was it, sir.”\\r\\n\\r\\n“But Mr. Fowler being a persevering man, as a good seaman should be,\\r\\nblockaded the house, and having met you succeeded by certain arguments,\\r\\nmetallic or otherwise, in convincing you that your interests were the\\r\\nsame as his.”\\r\\n\\r\\n“Mr. Fowler was a very kind-spoken, free-handed gentleman,” said Mrs.\\r\\nToller serenely.\\r\\n\\r\\n“And in this way he managed that your good man should have no want of\\r\\ndrink, and that a ladder should be ready at the moment when your master\\r\\nhad gone out.”\\r\\n\\r\\n“You have it, sir, just as it happened.”\\r\\n\\r\\n“I am sure we owe you an apology, Mrs. Toller,” said Holmes, “for you\\r\\nhave certainly cleared up everything which puzzled us. And here comes\\r\\nthe country surgeon and Mrs. Rucastle, so I think, Watson, that we had\\r\\nbest escort Miss Hunter back to Winchester, as it seems to me that our\\r\\n_locus standi_ now is rather a questionable one.”\\r\\n\\r\\nAnd thus was solved the mystery of the sinister house with the copper\\r\\nbeeches in front of the door. Mr. Rucastle survived, but was always a\\r\\nbroken man, kept alive solely through the care of his devoted wife.\\r\\nThey still live with their old servants, who probably know so much of\\r\\nRucastle’s past life that he finds it difficult to part from them. Mr.\\r\\nFowler and Miss Rucastle were married, by special license, in\\r\\nSouthampton the day after their flight, and he is now the holder of a\\r\\ngovernment appointment in the island of Mauritius. As to Miss Violet\\r\\nHunter, my friend Holmes, rather to my disappointment, manifested no\\r\\nfurther interest in her when once she had ceased to be the centre of\\r\\none of his problems, and she is now the head of a private school at\\r\\nWalsall, where I believe that she has met with considerable success.\\r\\n\\r\\n\\r\\n\\r\\n\\r\\n*** END OF THE PROJECT GUTENBERG EBOOK THE ADVENTURES OF SHERLOCK\\r\\nHOLMES ***\\r\\n\\r\\nUpdated editions will replace the previous one--the old editions will\\r\\nbe renamed.\\r\\n\\r\\nCreating the works from print editions not protected by U.S. copyright\\r\\nlaw means that no one owns a United States copyright in these works,\\r\\nso the Foundation (and you!) can copy and distribute it in the\\r\\nUnited States without permission and without paying copyright\\r\\nroyalties. Special rules, set forth in the General Terms of Use part\\r\\nof this license, apply to copying and distributing Project\\r\\nGutenberg™ electronic works to protect the PROJECT GUTENBERG™\\r\\nconcept and trademark. Project Gutenberg is a registered trademark,\\r\\nand may not be used if you charge for an eBook, except by following\\r\\nthe terms of the trademark license, including paying royalties for use\\r\\nof the Project Gutenberg trademark. If you do not charge anything for\\r\\ncopies of'"
      ]
     },
     "execution_count": 64,
     "metadata": {},
     "output_type": "execute_result"
    }
   ],
   "execution_count": 64
  }
 ],
 "metadata": {
  "kernelspec": {
   "display_name": "Python 3",
   "language": "python",
   "name": "python3"
  },
  "language_info": {
   "codemirror_mode": {
    "name": "ipython",
    "version": 2
   },
   "file_extension": ".py",
   "mimetype": "text/x-python",
   "name": "python",
   "nbconvert_exporter": "python",
   "pygments_lexer": "ipython2",
   "version": "2.7.6"
  }
 },
 "nbformat": 4,
 "nbformat_minor": 5
}
