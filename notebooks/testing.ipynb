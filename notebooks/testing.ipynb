{
 "cells": [
  {
   "metadata": {
    "ExecuteTime": {
     "end_time": "2024-12-20T21:34:32.641285Z",
     "start_time": "2024-12-20T21:34:31.820638Z"
    }
   },
   "cell_type": "code",
   "source": [
    "%load_ext autoreload\n",
    "%autoreload 2"
   ],
   "id": "b4070623045367a2",
   "outputs": [
    {
     "name": "stdout",
     "output_type": "stream",
     "text": [
      "The autoreload extension is already loaded. To reload it, use:\n",
      "  %reload_ext autoreload\n"
     ]
    }
   ],
   "execution_count": 18
  },
  {
   "metadata": {
    "ExecuteTime": {
     "end_time": "2024-12-20T21:34:38.136193Z",
     "start_time": "2024-12-20T21:34:37.964797Z"
    }
   },
   "cell_type": "code",
   "source": "from config import config",
   "id": "dd11c8da040bb9e2",
   "outputs": [],
   "execution_count": 19
  },
  {
   "cell_type": "code",
   "id": "initial_id",
   "metadata": {
    "collapsed": true,
    "ExecuteTime": {
     "end_time": "2024-12-20T21:34:40.113685Z",
     "start_time": "2024-12-20T21:34:39.922473Z"
    }
   },
   "source": "from main import RAGSystem, SnippetRelevanceOutput",
   "outputs": [],
   "execution_count": 20
  },
  {
   "metadata": {
    "ExecuteTime": {
     "end_time": "2024-12-20T21:34:56.585973Z",
     "start_time": "2024-12-20T21:34:40.824934Z"
    }
   },
   "cell_type": "code",
   "source": "rag_system = RAGSystem()",
   "id": "1c8ef9289d25c34f",
   "outputs": [],
   "execution_count": 21
  },
  {
   "metadata": {
    "ExecuteTime": {
     "end_time": "2024-12-20T21:35:01.109257Z",
     "start_time": "2024-12-20T21:34:58.498759Z"
    }
   },
   "cell_type": "code",
   "source": [
    "user_prompt = 'In which country does Sherlock live in?'\n",
    "response = rag_system._rewrite_query(user_prompt)"
   ],
   "id": "18552c49889adc8e",
   "outputs": [],
   "execution_count": 22
  },
  {
   "metadata": {
    "ExecuteTime": {
     "end_time": "2024-12-20T21:35:02.422275Z",
     "start_time": "2024-12-20T21:35:02.248456Z"
    }
   },
   "cell_type": "code",
   "source": "response.response",
   "id": "8c9ecc829a1ab243",
   "outputs": [
    {
     "data": {
      "text/plain": [
       "\"Rewritten Query: Where was Sir Arthur Conan Doyle's fictional detective Sherlock Holmes originally from and where do the stories predominantly take place within London, England?\""
      ]
     },
     "execution_count": 23,
     "metadata": {},
     "output_type": "execute_result"
    }
   ],
   "execution_count": 23
  },
  {
   "metadata": {},
   "cell_type": "code",
   "outputs": [],
   "execution_count": null,
   "source": "",
   "id": "2f107a98cbf46ba9"
  }
 ],
 "metadata": {
  "kernelspec": {
   "display_name": "Python 3",
   "language": "python",
   "name": "python3"
  },
  "language_info": {
   "codemirror_mode": {
    "name": "ipython",
    "version": 2
   },
   "file_extension": ".py",
   "mimetype": "text/x-python",
   "name": "python",
   "nbconvert_exporter": "python",
   "pygments_lexer": "ipython2",
   "version": "2.7.6"
  }
 },
 "nbformat": 4,
 "nbformat_minor": 5
}
